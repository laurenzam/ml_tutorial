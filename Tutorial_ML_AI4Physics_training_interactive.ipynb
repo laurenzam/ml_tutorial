{
 "cells": [
  {
   "cell_type": "markdown",
   "id": "6022c455",
   "metadata": {},
   "source": [
    "# Classification of Events in High Energy Physics: Signal or Background?"
   ]
  },
  {
   "cell_type": "markdown",
   "id": "35594ee8",
   "metadata": {},
   "source": [
    "Event classification plays a crucial role in High Energy Physics (HEP). When analyzing experimental data, physicists often search for rare events hidden within a vast background of unwanted interactions. These backgrounds can arise for various reasons: the event of interest might be intrinsically rare, or the experimental setup itself may produce a high rate of background events.\n",
    "\n",
    "Traditionally, physicists have tackled this problem by applying selection criteria to specific event features, such as kinematic variables. By identifying patterns in these variables, one can enhance the signal-to-background ratio, increasing the likelihood of detecting meaningful events. However, as experiments become more complex and datasets grow larger, machine learning (ML) methods offer a more powerful and automated approach to classification.\n",
    "\n",
    "In this tutorial, we will introduce a simple ML-based approach to event classification. We will start from the basics, using a straightforward dataset and applying a classification model to separate signal from background."
   ]
  },
  {
   "cell_type": "markdown",
   "id": "d63a6566",
   "metadata": {},
   "source": [
    "# Implementation of an event classifier:\n",
    "\n",
    "We want to classify each event of our dataseta as either:\n",
    "- **Signal (S)**: interesting events, *to be identified*\n",
    "- **Background (B)**: irrelevant events, *to be rejected*\n",
    "\n",
    "This will be done in the following steps:\n",
    "1. **Data Preprocessing**: import, clean, and normalize data\n",
    "2. **Features Selection**: evaluate which variables have more discriminating power\n",
    "3. **Choice of the Model**: pick an appropriate classifier\n",
    "4. **Model Training**: train the model on the training set and tune parameters\n",
    "5. **Model Evaluation**: Check accuracy, precision, ROC curve and score\n",
    "6. **Predictions**: Use the trained model to predict classes for an independent dataset\n"
   ]
  },
  {
   "cell_type": "markdown",
   "id": "99c8ce06",
   "metadata": {},
   "source": [
    "### 1) Data Preprocessing"
   ]
  },
  {
   "cell_type": "markdown",
   "id": "cdbb79e8",
   "metadata": {},
   "source": [
    "#### Import needed packages\n",
    "*([Scikit learn documentation for classification problem](https://scikit-learn.org/stable/auto_examples/classification/index.html))*"
   ]
  },
  {
   "cell_type": "code",
   "execution_count": null,
   "id": "809c4f5f",
   "metadata": {},
   "outputs": [],
   "source": [
    "import uproot\n",
    "import numpy as np\n",
    "import pandas as pd\n",
    "from sklearn.utils import shuffle\n",
    "import seaborn as sns\n",
    "import matplotlib.pyplot as plt\n",
    "import matplotlib.gridspec as gridspec"
   ]
  },
  {
   "cell_type": "markdown",
   "id": "c80d5021",
   "metadata": {},
   "source": [
    "#### Load and clean data"
   ]
  },
  {
   "cell_type": "code",
   "execution_count": null,
   "id": "8d640e00",
   "metadata": {},
   "outputs": [],
   "source": [
    "signal_root_file = uproot.open(\"./reduced_signal_forTraining.root\")\n",
    "background_root_file = uproot.open(\"./reduced_background_forTraining.root\")"
   ]
  },
  {
   "cell_type": "code",
   "execution_count": null,
   "id": "46d9d9ad",
   "metadata": {},
   "outputs": [],
   "source": [
    "signal_tree = signal_root_file[\"zp\"]\n",
    "background_tree = background_root_file[\"zp\"]"
   ]
  },
  {
   "cell_type": "code",
   "execution_count": null,
   "id": "6d13d25d",
   "metadata": {},
   "outputs": [],
   "source": [
    "raw_variables = ['Zp_cm_p_beforeFit', 'P_beforeFit', 'Zp_tau0_CMS_p_beforeFit', 'Zp_tau1_CMS_p_beforeFit', \n",
    "                 'fake_tau0_CMS_p_beforeFit', 'fake_tau1_CMS_p_beforeFit', 'fake_tau0_CMS_pt_beforeFit', \n",
    "                 'fake_tau1_CMS_pt_beforeFit', 'fake_PtTheta_beforeFit', 'fake_PtRho_beforeFit', \n",
    "                 'IntSymmZp_Pt_beforeFit', 'DistZp_Pt_beforeFit', 'Zp_PtTheta_sign_beforeFit', \n",
    "                 'Zp_PtRho_sign_beforeFit', 'Zp_ptPtMin_Theta_beforeFit', 'Zp_ptPtMin_Rho_beforeFit']\n",
    "mcTruth_variables = ['Zp_tau_0_dau_genMotherPDG', 'Zp_tau_1_dau_genMotherPDG']\n",
    "mass_variables = ['Zp_M_beforeFit']"
   ]
  },
  {
   "cell_type": "code",
   "execution_count": null,
   "id": "099344f9",
   "metadata": {},
   "outputs": [],
   "source": [
    "branches = raw_variables+mcTruth_variables+mass_variables"
   ]
  },
  {
   "cell_type": "code",
   "execution_count": null,
   "id": "a2b675fb",
   "metadata": {},
   "outputs": [],
   "source": [
    "print(branches)"
   ]
  },
  {
   "cell_type": "code",
   "execution_count": null,
   "id": "60d4a105",
   "metadata": {},
   "outputs": [],
   "source": [
    "background_data = background_tree.arrays(branches, library=\"pd\")\n",
    "signal_data = signal_tree.arrays(branches, library=\"pd\")"
   ]
  },
  {
   "cell_type": "code",
   "execution_count": null,
   "id": "9731523f",
   "metadata": {},
   "outputs": [],
   "source": [
    "background_data = background_data[(background_data['Zp_M_beforeFit'] > 4.5) & (background_data['Zp_M_beforeFit'] < 5.5)]                                 \n",
    "signal_data = signal_data[(signal_data['Zp_tau_0_dau_genMotherPDG'] == 26) & (signal_data['Zp_tau_1_dau_genMotherPDG'] == 26)]"
   ]
  },
  {
   "cell_type": "markdown",
   "id": "ab8d7893",
   "metadata": {},
   "source": [
    "#### How is our dataset like?"
   ]
  },
  {
   "cell_type": "code",
   "execution_count": null,
   "id": "7e73ee2e",
   "metadata": {},
   "outputs": [],
   "source": [
    "fig = plt.figure(figsize=(14, 10))\n",
    "fig.suptitle('Mass Distribution', fontsize=22, y = 0.93)\n",
    "gs = gridspec.GridSpec(1, 2, width_ratios=[1, 1.2], wspace=0.2)\n",
    "ax1 = fig.add_subplot(gs[0])\n",
    "ax1.hist([background_data['Zp_M_beforeFit'], signal_data['Zp_M_beforeFit']], range = (4.5, 5.5), bins=60, \n",
    "         color=['red', 'blue'], alpha=0.7, label=['Background', 'Signal'], edgecolor='none', density = True, \n",
    "         stacked=True)\n",
    "ax1.set_xlabel('M(Z$^{\\prime}$) [GeV/c$^{2}$]', fontsize = 15)\n",
    "ax1.set_ylabel('Frequency', fontsize = 15)\n",
    "ax1.legend(frameon = False, fontsize = 15)\n",
    "\n",
    "gs_right = gridspec.GridSpecFromSubplotSpec(2, 1, subplot_spec=gs[1], hspace=0)\n",
    "ax2 = fig.add_subplot(gs_right[0])\n",
    "ax2.hist(signal_data['Zp_M_beforeFit'], range = (4.5, 5.5), bins=60, color='blue', alpha=0.6, edgecolor='none', \n",
    "         density = True)\n",
    "ax2.set_xlabel('M(Z$^{\\prime}$) [GeV/c$^{2}$]', fontsize = 15)\n",
    "ax2.set_ylabel('Frequency', fontsize = 15)\n",
    "\n",
    "ax3 = fig.add_subplot(gs_right[1])\n",
    "ax3.hist(background_data['Zp_M_beforeFit'], range = (4.5, 5.5), bins=60, color='red', alpha=0.6, edgecolor='none', \n",
    "         density = True)\n",
    "ax3.set_xlabel('M(Z$^{\\prime}$) [GeV/c$^{2}$]', fontsize = 15)\n",
    "ax3.set_ylabel('Frequency', fontsize = 15)\n",
    "\n",
    "plt.show()"
   ]
  },
  {
   "cell_type": "markdown",
   "id": "59c14756",
   "metadata": {},
   "source": [
    "### 2) Feature Selection"
   ]
  },
  {
   "cell_type": "code",
   "execution_count": null,
   "id": "4f2b72fb",
   "metadata": {},
   "outputs": [],
   "source": [
    "fig = plt.figure(figsize=(15, 10))\n",
    "fig.suptitle('A couple of Kinematics Distributions', fontsize=22, y = 0.93)\n",
    "gs = gridspec.GridSpec(1, 2, width_ratios=[1, 1.2], wspace=0.2)\n",
    "ax1 = fig.add_subplot(gs[0])\n",
    "ax1.hist(signal_data['Zp_cm_p_beforeFit'], bins=60, color='blue', alpha=0.6, label='Signal', \n",
    "           edgecolor='none', density = True)\n",
    "ax1.hist(background_data['Zp_cm_p_beforeFit'], bins=60, color='red', alpha=0.6, label='Background', \n",
    "           edgecolor='none', density = True)\n",
    "ax1.set_xlabel('P$_{CMS}$ (Z$^{\\prime}$) [GeV/c]', fontsize=15)\n",
    "ax1.set_ylabel('Density', fontsize=15)\n",
    "ax1.legend(frameon = False, fontsize=15)\n",
    "\n",
    "gs_right = gridspec.GridSpecFromSubplotSpec(2, 1, subplot_spec=gs[1], hspace=0.2)\n",
    "ax2 = fig.add_subplot(gs_right[0])\n",
    "ax2.hist2d(signal_data['fake_tau0_CMS_pt_beforeFit'], signal_data['fake_tau1_CMS_pt_beforeFit'], \n",
    "             bins=(40, 40), cmap='Blues', density=True)\n",
    "ax2.set_xlabel('P$^{t}_{CMS}$(R$^{\\prime}_{\\mu_{0}}$) [GeV]', fontsize=15)\n",
    "ax2.set_ylabel('P$^{t}_{CMS}$(R$^{\\prime}_{\\mu_{1}}$) [GeV]', fontsize=15)\n",
    "ax2.text(3.6, 3.8, \"Signal\", fontsize=15, color=\"black\", ha=\"center\", va=\"center\")\n",
    "\n",
    "ax3 = fig.add_subplot(gs_right[1])\n",
    "ax3.hist2d(background_data['fake_tau0_CMS_pt_beforeFit'], background_data['fake_tau1_CMS_pt_beforeFit'], \n",
    "             bins=(40, 40), cmap='Reds', density=True)\n",
    "ax3.set_xlabel('P$^{t}_{CMS}$(R$^{\\prime}_{\\mu_{0}}$) [GeV]', fontsize=15)\n",
    "ax3.set_ylabel('P$^{t}_{CMS}$(R$^{\\prime}_{\\mu_{1}}$) [GeV]', fontsize=15)\n",
    "ax3.text(3.6, 3.8, \"Background\", fontsize=15, color=\"black\", ha=\"center\", va=\"center\")\n",
    "\n",
    "plt.show()"
   ]
  },
  {
   "cell_type": "code",
   "execution_count": null,
   "id": "214172bf",
   "metadata": {},
   "outputs": [],
   "source": [
    "selected = ['Zp_cm_p_beforeFit', 'P_beforeFit', 'Zp_tau0_CMS_p_beforeFit', 'Zp_tau1_CMS_p_beforeFit', \n",
    "            'fake_tau0_CMS_p_beforeFit', 'fake_tau1_CMS_p_beforeFit', 'fake_tau0_CMS_pt_beforeFit', \n",
    "            'fake_tau1_CMS_pt_beforeFit', 'fake_PtTheta_beforeFit', 'fake_PtRho_beforeFit', \n",
    "            'IntSymmZp_Pt_beforeFit', 'DistZp_Pt_beforeFit', 'Zp_PtTheta_sign_beforeFit', \n",
    "            'Zp_PtRho_sign_beforeFit', 'Zp_ptPtMin_Theta_beforeFit', 'Zp_ptPtMin_Rho_beforeFit']"
   ]
  },
  {
   "cell_type": "markdown",
   "id": "f563e618",
   "metadata": {},
   "source": [
    "#### prepare dataset for the training: train and test fraction, scaling"
   ]
  },
  {
   "cell_type": "code",
   "execution_count": null,
   "id": "d9e4ffb3",
   "metadata": {},
   "outputs": [],
   "source": [
    "X_signal = signal_data[selected].values\n",
    "X_background = background_data[selected].values"
   ]
  },
  {
   "cell_type": "code",
   "execution_count": null,
   "id": "03b81659",
   "metadata": {},
   "outputs": [],
   "source": [
    "y_signal = np.ones(len(signal_data)) \n",
    "y_background = np.zeros(len(background_data)) "
   ]
  },
  {
   "cell_type": "code",
   "execution_count": null,
   "id": "aa74b9a1",
   "metadata": {},
   "outputs": [],
   "source": [
    "X = np.vstack((X_signal, X_background))  \n",
    "y = np.hstack((y_signal, y_background))  "
   ]
  },
  {
   "cell_type": "code",
   "execution_count": null,
   "id": "f71cd9f7",
   "metadata": {},
   "outputs": [],
   "source": [
    "X, y = shuffle(X, y, random_state=42)"
   ]
  },
  {
   "cell_type": "markdown",
   "id": "4320724c",
   "metadata": {},
   "source": [
    "#### Use  `train_test_split` from *scikit learn* for determining the fraction of events that should be used for training and testing"
   ]
  },
  {
   "cell_type": "code",
   "execution_count": null,
   "id": "460107b9",
   "metadata": {},
   "outputs": [],
   "source": [
    "from sklearn.model_selection import train_test_split"
   ]
  },
  {
   "cell_type": "code",
   "execution_count": null,
   "id": "b0202b81",
   "metadata": {},
   "outputs": [],
   "source": [
    "X_train, X_test, y_train, y_test = train_test_split(X, y, test_size=0.3, random_state=42)"
   ]
  },
  {
   "cell_type": "markdown",
   "id": "00787e0e",
   "metadata": {},
   "source": [
    "#### Use `StandardScaler` from *scikit learn* for scaling the dataset "
   ]
  },
  {
   "cell_type": "code",
   "execution_count": null,
   "id": "3a35591e",
   "metadata": {},
   "outputs": [],
   "source": [
    "from sklearn.preprocessing import StandardScaler"
   ]
  },
  {
   "cell_type": "code",
   "execution_count": null,
   "id": "d5c21fa0",
   "metadata": {},
   "outputs": [],
   "source": [
    "scaler = StandardScaler()\n",
    "X_train = scaler.fit_transform(X_train)\n",
    "X_test = scaler.transform(X_test)"
   ]
  },
  {
   "cell_type": "markdown",
   "id": "820a11f4",
   "metadata": {},
   "source": [
    "#### save the scaler for further implementation"
   ]
  },
  {
   "cell_type": "code",
   "execution_count": null,
   "id": "735a37b1",
   "metadata": {},
   "outputs": [],
   "source": [
    "import joblib\n",
    "joblib.dump(scaler, \"scaler.pkl\")"
   ]
  },
  {
   "cell_type": "markdown",
   "id": "2e6b76ce",
   "metadata": {},
   "source": [
    "#### check features correlation with `train_df.corr()`"
   ]
  },
  {
   "cell_type": "code",
   "execution_count": null,
   "id": "4f2baac4",
   "metadata": {
    "scrolled": true
   },
   "outputs": [],
   "source": [
    "train_df = pd.DataFrame(X_train, columns=selected)"
   ]
  },
  {
   "cell_type": "code",
   "execution_count": null,
   "id": "c5c44134",
   "metadata": {},
   "outputs": [],
   "source": [
    "corr_matrix = train_df.corr()"
   ]
  },
  {
   "cell_type": "code",
   "execution_count": null,
   "id": "55c87424",
   "metadata": {},
   "outputs": [],
   "source": [
    "plt.figure(figsize=(14, 10))\n",
    "sns.heatmap(corr_matrix, annot=True, cmap='RdBu', fmt=\".2f\", linewidths=0.5)\n",
    "plt.title(\"Correlation Matrix of Features\", fontsize=22, y=1.02)\n",
    "plt.show()"
   ]
  },
  {
   "cell_type": "markdown",
   "id": "2f7c7ad8",
   "metadata": {},
   "source": [
    "###  3) Choice of the Model"
   ]
  },
  {
   "cell_type": "markdown",
   "id": "59c9918e",
   "metadata": {},
   "source": [
    "#### import classifiers and load the models you want to test for classification"
   ]
  },
  {
   "cell_type": "code",
   "execution_count": null,
   "id": "00dbfc97",
   "metadata": {},
   "outputs": [],
   "source": [
    "from sklearn.metrics import roc_curve, auc\n",
    "from sklearn.ensemble import RandomForestClassifier, GradientBoostingClassifier\n",
    "from sklearn.linear_model import LogisticRegression\n",
    "from sklearn.svm import SVC\n",
    "from sklearn.neighbors import KNeighborsClassifier\n",
    "from sklearn.naive_bayes import GaussianNB\n",
    "from sklearn.neural_network import MLPClassifier"
   ]
  },
  {
   "cell_type": "code",
   "execution_count": null,
   "id": "7a94b3e6",
   "metadata": {},
   "outputs": [],
   "source": [
    "classifiers = {\n",
    "    'Logistic Regression': LogisticRegression(max_iter=500),\n",
    "    'Random Forest': RandomForestClassifier(n_estimators=50, random_state=42),\n",
    "    'Gradient Boosting': GradientBoostingClassifier(n_estimators=50, random_state=42),\n",
    "    'SVM': SVC(probability=True, random_state=42),\n",
    "    'K-Nearest Neighbors': KNeighborsClassifier(),\n",
    "    'Naive Bayes': GaussianNB(),\n",
    "    'MLP Neural Network': MLPClassifier(hidden_layer_sizes=(64, 32), max_iter=500, random_state=42)\n",
    "}"
   ]
  },
  {
   "cell_type": "markdown",
   "id": "6d3bfa35",
   "metadata": {},
   "source": [
    "#### train your models using `model.fit(train_sample, test_sample)`"
   ]
  },
  {
   "cell_type": "code",
   "execution_count": null,
   "id": "9eeb81cb",
   "metadata": {},
   "outputs": [],
   "source": [
    "for name, model in classifiers.items():\n",
    "    model.fit(X_train, y_train)"
   ]
  },
  {
   "cell_type": "markdown",
   "id": "e0abe3fc",
   "metadata": {},
   "source": [
    "#### compute ROC curves and AUC scores for all classifiers to compare their performance"
   ]
  },
  {
   "cell_type": "code",
   "execution_count": null,
   "id": "ba0ec38f",
   "metadata": {},
   "outputs": [],
   "source": [
    "roc_auc_scores = []\n",
    "\n",
    "for name, model in classifiers.items():\n",
    "\n",
    "    y_pred_prob = model.predict_proba(X_test)[:, 1]\n",
    "    \n",
    "    fpr, tpr, _ = roc_curve(y_test, y_pred_prob)\n",
    "    roc_auc = auc(fpr, tpr)\n",
    "    \n",
    "    roc_auc_scores.append((name, fpr, tpr, roc_auc))"
   ]
  },
  {
   "cell_type": "code",
   "execution_count": null,
   "id": "6ba2600a",
   "metadata": {},
   "outputs": [],
   "source": [
    "roc_auc_scores.sort(key=lambda x: x[3], reverse=True)"
   ]
  },
  {
   "cell_type": "code",
   "execution_count": null,
   "id": "bd82e3b0",
   "metadata": {},
   "outputs": [],
   "source": [
    "plt.figure(figsize=(10, 8))\n",
    "colors = plt.cm.plasma(np.linspace(0, 1, len(classifiers)))\n",
    "\n",
    "for (name, fpr, tpr, roc_auc), color in zip(roc_auc_scores, colors):\n",
    "    plt.plot(fpr, tpr, color=color, lw=1, label=f\"{name} (AUC = {roc_auc:.3f})\")\n",
    "\n",
    "plt.plot([0, 1], [0, 1], linestyle=\"--\", color=\"gray\")\n",
    "\n",
    "plt.xlabel(\"False Positive Rate (Background Acceptance)\", fontsize=15)\n",
    "plt.ylabel(\"True Positive Rate (Signal Efficiency)\", fontsize=15)\n",
    "plt.title(\"ROC Curve Comparison\", fontsize=22)\n",
    "plt.legend(fontsize=15)\n",
    "plt.grid()\n",
    "plt.tick_params(axis=\"both\", labelsize=15)\n",
    "plt.show()"
   ]
  },
  {
   "cell_type": "markdown",
   "id": "3d0d2e12",
   "metadata": {},
   "source": [
    "### 4) Model Training"
   ]
  },
  {
   "cell_type": "markdown",
   "id": "7a392001",
   "metadata": {},
   "source": [
    "We decided to use a Multi-Layer Perceptron for our classification problem. At this point we need to tune the parameters of the model, in order to optimize the performance and the robustness of the algorithm. "
   ]
  },
  {
   "cell_type": "code",
   "execution_count": null,
   "id": "9472fa09",
   "metadata": {},
   "outputs": [],
   "source": [
    "import ipywidgets as widgets\n",
    "from ipywidgets import interactive"
   ]
  },
  {
   "cell_type": "code",
   "execution_count": null,
   "id": "4912b6e6",
   "metadata": {},
   "outputs": [],
   "source": [
    "# Function to update and plot ROC curve\n",
    "def plot_roc(hidden_layer_1, hidden_layer_2, activation, solver, alpha, learning_rate, max_iter):\n",
    "    hidden_layers = (hidden_layer_1, hidden_layer_2)\n",
    "    \n",
    "    model = MLPClassifier(\n",
    "        hidden_layer_sizes=hidden_layers,\n",
    "        activation=activation,\n",
    "        solver=solver,\n",
    "        alpha=alpha,\n",
    "        learning_rate=learning_rate,\n",
    "        max_iter=max_iter,\n",
    "        random_state=42\n",
    "    )\n",
    "    \n",
    "    model.fit(X_train, y_train)\n",
    "    y_pred_prob = model.predict_proba(X_test)[:, 1]\n",
    "    fpr, tpr, _ = roc_curve(y_test, y_pred_prob)\n",
    "    roc_auc = auc(fpr, tpr)\n",
    "    \n",
    "    plt.figure(figsize=(10, 8))\n",
    "    plt.plot(fpr, tpr, color='navy', label=f'MLPClassifier (AUC = {roc_auc:.3f})')\n",
    "    plt.plot([0, 1], [0, 1], linestyle='--', color='gray')\n",
    "    plt.xlabel(\"False Positive Rate\", fontsize=15)\n",
    "    plt.ylabel(\"True Positive Rate\", fontsize=15)\n",
    "    plt.title(\"ROC Curve - MLP Classifier\", fontsize=22)\n",
    "    plt.legend(loc=\"lower right\", fontsize=15)\n",
    "    plt.grid()\n",
    "    plt.tick_params(axis=\"both\", labelsize=15)\n",
    "    plt.show()"
   ]
  },
  {
   "cell_type": "code",
   "execution_count": null,
   "id": "a61019a9",
   "metadata": {},
   "outputs": [],
   "source": [
    "hidden_layer_1_widget = widgets.IntSlider(value=64, min=16, max=80, step=2, description='Layer 1 Neurons:')\n",
    "hidden_layer_2_widget = widgets.IntSlider(value=32, min=16, max=80, step=2, description='Layer 2 Neurons:')\n",
    "activation_widget = widgets.Dropdown(options=['identity', 'logistic', 'tanh', 'relu'], value='relu', description='Activation:')\n",
    "solver_widget = widgets.Dropdown(options=['lbfgs', 'sgd', 'adam'], value='adam', description='Solver:')\n",
    "alpha_widget = widgets.FloatLogSlider(value=0.0001, min=-5, max=0, step=0.1, base=10, description='Alpha:')\n",
    "learning_rate_widget = widgets.Dropdown(options=['constant', 'invscaling', 'adaptive'], value='constant', description='Learning Rate:')\n",
    "max_iter_widget = widgets.IntSlider(value=500, min=100, max=2000, step=100, description='Max Iterations:')"
   ]
  },
  {
   "cell_type": "code",
   "execution_count": null,
   "id": "ddeeef63",
   "metadata": {},
   "outputs": [],
   "source": [
    "display(widgets.interactive(plot_roc, \n",
    "                            hidden_layer_1=hidden_layer_1_widget,\n",
    "                            hidden_layer_2=hidden_layer_2_widget,\n",
    "                            activation=activation_widget,\n",
    "                            solver=solver_widget,\n",
    "                            alpha=alpha_widget,\n",
    "                            learning_rate=learning_rate_widget,\n",
    "                            max_iter=max_iter_widget))"
   ]
  },
  {
   "cell_type": "markdown",
   "id": "97e41f8b",
   "metadata": {},
   "source": [
    "*The adjustment of parameters can in turn be entrusted to automatic tools found in scikit leanr. Take a look [here](https://scikit-learn.org/stable/modules/grid_search.html) to learn more!*"
   ]
  },
  {
   "cell_type": "markdown",
   "id": "674c8b77",
   "metadata": {},
   "source": [
    "#### train your model with the optimized parameters using `model.fit(X_train, y_train)`"
   ]
  },
  {
   "cell_type": "code",
   "execution_count": null,
   "id": "1d38cee7",
   "metadata": {},
   "outputs": [],
   "source": [
    "mlp = MLPClassifier(hidden_layer_sizes=(64, 32), activation='relu', solver='adam', max_iter=500, random_state=42)\n",
    "mlp.fit(X_train, y_train)"
   ]
  },
  {
   "cell_type": "markdown",
   "id": "48e9a72b",
   "metadata": {},
   "source": [
    "#### save the model for later applications"
   ]
  },
  {
   "cell_type": "code",
   "execution_count": null,
   "id": "ee8c91fd",
   "metadata": {},
   "outputs": [],
   "source": [
    "import joblib\n",
    "joblib.dump(mlp, \"mlp_model.pkl\")"
   ]
  },
  {
   "cell_type": "markdown",
   "id": "9fe611da",
   "metadata": {},
   "source": [
    "### 4) Model Evaluation"
   ]
  },
  {
   "cell_type": "markdown",
   "id": "e706d4d0",
   "metadata": {},
   "source": [
    "#### Make prediction on the test sample (30% of the total in our case) using `predict(x_test_sample)`"
   ]
  },
  {
   "cell_type": "code",
   "execution_count": null,
   "id": "12008e36",
   "metadata": {},
   "outputs": [],
   "source": [
    "y_pred = mlp.predict(X_test)"
   ]
  },
  {
   "cell_type": "markdown",
   "id": "60dd0827",
   "metadata": {},
   "source": [
    "#### Predict class probability on the test sample using `predict_proba`"
   ]
  },
  {
   "cell_type": "code",
   "execution_count": null,
   "id": "3f5c09b3",
   "metadata": {},
   "outputs": [],
   "source": [
    "y_prob = mlp.predict_proba(X_test)[:, 1]  "
   ]
  },
  {
   "cell_type": "markdown",
   "id": "14f926bc",
   "metadata": {},
   "source": [
    "#### Confusion Matrix\n",
    "*See documentation [here](https://scikit-learn.org/stable/modules/generated/sklearn.metrics.confusion_matrix.html)*"
   ]
  },
  {
   "cell_type": "code",
   "execution_count": null,
   "id": "0e2a3f9c",
   "metadata": {},
   "outputs": [],
   "source": [
    "from sklearn.metrics import confusion_matrix, ConfusionMatrixDisplay"
   ]
  },
  {
   "cell_type": "code",
   "execution_count": null,
   "id": "27404777",
   "metadata": {},
   "outputs": [],
   "source": [
    "cm = confusion_matrix(y_test, y_pred)"
   ]
  },
  {
   "cell_type": "code",
   "execution_count": null,
   "id": "ed8e8019",
   "metadata": {},
   "outputs": [],
   "source": [
    "plt.figure(figsize=(10, 8))\n",
    "ax = sns.heatmap(cm, annot=True, fmt='d', cmap=\"Purples\", linewidths=0.0, linecolor='black')\n",
    "plt.xticks(fontsize=15)\n",
    "plt.yticks(fontsize=15)\n",
    "plt.xlabel(\"Predicted Label\", fontsize=15)\n",
    "plt.ylabel(\"True Label\", fontsize=15)\n",
    "plt.title(\"Confusion Matrix\", fontsize=22)"
   ]
  },
  {
   "cell_type": "markdown",
   "id": "b28c5804",
   "metadata": {},
   "source": [
    "#### Plot the ROC curve (`roc_curve`) and the AUC (`auc`) \n",
    "*See documentation [here](https://scikit-learn.org/stable/modules/generated/sklearn.metrics.roc_curve.html)*"
   ]
  },
  {
   "cell_type": "code",
   "execution_count": null,
   "id": "d10736a0",
   "metadata": {},
   "outputs": [],
   "source": [
    "fpr, tpr, _ = roc_curve(y_test, y_prob)\n",
    "roc_auc = auc(fpr, tpr)"
   ]
  },
  {
   "cell_type": "code",
   "execution_count": null,
   "id": "ff8e52bf",
   "metadata": {},
   "outputs": [],
   "source": [
    "plt.figure(figsize=(10, 8))\n",
    "plt.plot(fpr, tpr, label=f\"MLP (AUC = {roc_auc:.2f})\", color=\"Purple\")\n",
    "plt.plot([0, 1], [0, 1], linestyle=\"--\", color=\"gray\")  # Random guess line\n",
    "plt.xlabel(\"False Positive Rate\", fontsize=15)\n",
    "plt.ylabel(\"True Positive Rate\", fontsize=15)\n",
    "plt.title(\"ROC Curve\", fontsize=22)\n",
    "plt.legend(frameon=False, fontsize=15)\n",
    "plt.grid()\n",
    "plt.tick_params(axis=\"both\", labelsize=15)\n",
    "plt.show()"
   ]
  },
  {
   "cell_type": "markdown",
   "id": "25c73aa4",
   "metadata": {},
   "source": [
    "#### Plot the probability (`y_prob`) for each class"
   ]
  },
  {
   "cell_type": "code",
   "execution_count": null,
   "id": "733d1859",
   "metadata": {},
   "outputs": [],
   "source": [
    "plt.figure(figsize=(10, 8))\n",
    "plt.hist(y_prob[y_test == 1], bins=50, alpha=0.6, color='r', label='Signal')\n",
    "plt.hist(y_prob[y_test == 0], bins=50, alpha=0.6, color='b', label='Background')\n",
    "plt.xlabel(\"MLP Output Score\", fontsize=15)\n",
    "plt.ylabel(\"Frequency\", fontsize=15)\n",
    "plt.title(\"MLP Output Distribution (Signal vs Background)\", fontsize=22)\n",
    "plt.legend(frameon=False, fontsize=15)\n",
    "plt.tick_params(axis=\"both\", labelsize=15)\n",
    "plt.yscale('log')\n",
    "plt.show()"
   ]
  },
  {
   "cell_type": "markdown",
   "id": "c8cd6fee",
   "metadata": {},
   "source": [
    "### 5) Predictions on an independent dataset"
   ]
  },
  {
   "cell_type": "markdown",
   "id": "cd408e84",
   "metadata": {},
   "source": [
    "#### Load the model previously trained and evaluated"
   ]
  },
  {
   "cell_type": "code",
   "execution_count": null,
   "id": "2cf93927",
   "metadata": {},
   "outputs": [],
   "source": [
    "mlp = joblib.load(\"mlp_model.pkl\")  \n",
    "scaler = joblib.load(\"scaler.pkl\")  "
   ]
  },
  {
   "cell_type": "markdown",
   "id": "c76c2672",
   "metadata": {},
   "source": [
    "#### Load the independent dataset and preprocess it as the one used for training\n",
    "*OBS: the dataset must have an identical structure to the trained one*"
   ]
  },
  {
   "cell_type": "code",
   "execution_count": null,
   "id": "65be3233",
   "metadata": {},
   "outputs": [],
   "source": [
    "app_signal_root_file = uproot.open(\"./reduced_signal_forApplication.root\")\n",
    "app_background_root_file = uproot.open(\"./reduced_background_forApplication.root\")"
   ]
  },
  {
   "cell_type": "code",
   "execution_count": null,
   "id": "4ddbed31",
   "metadata": {},
   "outputs": [],
   "source": [
    "app_signal_tree = app_signal_root_file[\"zp\"]\n",
    "app_background_tree = app_background_root_file[\"zp\"]"
   ]
  },
  {
   "cell_type": "code",
   "execution_count": null,
   "id": "09361107",
   "metadata": {},
   "outputs": [],
   "source": [
    "app_signal_data = app_signal_tree.arrays(branches, library=\"pd\")\n",
    "app_background_data = app_background_tree.arrays(branches, library=\"pd\")"
   ]
  },
  {
   "cell_type": "code",
   "execution_count": null,
   "id": "b5354e4d",
   "metadata": {},
   "outputs": [],
   "source": [
    "app_signal_data = app_signal_data[(app_signal_data['Zp_tau_0_dau_genMotherPDG'] == 26) & (app_signal_data['Zp_tau_1_dau_genMotherPDG'] == 26)]\n",
    "app_background_data = app_background_data[(app_background_data['Zp_M_beforeFit'] > 4.5) & (app_background_data['Zp_M_beforeFit'] < 5.5)]                                 "
   ]
  },
  {
   "cell_type": "code",
   "execution_count": null,
   "id": "d9cb6321",
   "metadata": {},
   "outputs": [],
   "source": [
    "app_X_signal = app_signal_data[selected].values\n",
    "app_X_background = app_background_data[selected].values"
   ]
  },
  {
   "cell_type": "code",
   "execution_count": null,
   "id": "3f820b0b",
   "metadata": {},
   "outputs": [],
   "source": [
    "app_X_signal_new = scaler.transform(app_X_signal)\n",
    "app_X_background_new = scaler.transform(app_X_background)"
   ]
  },
  {
   "cell_type": "markdown",
   "id": "8d22aa1b",
   "metadata": {},
   "source": [
    "#### Make prediction and compute the probability of each class"
   ]
  },
  {
   "cell_type": "code",
   "execution_count": null,
   "id": "df883b21",
   "metadata": {},
   "outputs": [],
   "source": [
    "signal_predictions = mlp.predict(app_X_signal_new)\n",
    "background_predictions = mlp.predict(app_X_background_new)"
   ]
  },
  {
   "cell_type": "code",
   "execution_count": null,
   "id": "6515a024",
   "metadata": {},
   "outputs": [],
   "source": [
    "signal_probs = mlp.predict_proba(app_X_signal_new)[:, 1]\n",
    "background_probs = mlp.predict_proba(app_X_background_new)[:, 1]"
   ]
  },
  {
   "cell_type": "markdown",
   "id": "bda2a659",
   "metadata": {},
   "source": [
    "#### Prepare a dataset only including a variable on which we want to evaluate the background rejection vs. the signal efficiency"
   ]
  },
  {
   "cell_type": "code",
   "execution_count": null,
   "id": "51bf4019",
   "metadata": {},
   "outputs": [],
   "source": [
    "mass_signal = app_signal_data[\"Zp_M_beforeFit\"]\n",
    "mass_background = app_background_data[\"Zp_M_beforeFit\"]"
   ]
  },
  {
   "cell_type": "code",
   "execution_count": null,
   "id": "df712a25",
   "metadata": {},
   "outputs": [],
   "source": [
    "def plot_interactive_cut(threshold):\n",
    "    # Plot MLP score distribution\n",
    "    plt.figure(figsize=(12, 6))\n",
    "\n",
    "    # Create a subplot for MLP Scores\n",
    "    plt.subplot(1, 2, 1)\n",
    "    plt.hist(signal_probs, bins=50, range=(0, 1), alpha=0.6, label=\"Signal\", color=\"red\", histtype=\"stepfilled\", density=True)\n",
    "    plt.hist(background_probs, bins=50, range=(0, 1), alpha=0.6, label=\"Background\", color=\"blue\", histtype=\"stepfilled\", density=True)\n",
    "    plt.axvline(threshold, color=\"red\", linestyle=\"--\", linewidth=1, label=f\"Cut @ {threshold:.2f}\")\n",
    "    plt.yscale('log')\n",
    "    plt.xlabel(\"MLP Score\", fontsize=15)\n",
    "    plt.ylabel(\"Normalized Events\", fontsize=15)\n",
    "    plt.title(\"MLP Output Scores\", fontsize=22)\n",
    "    plt.legend(frameon=False, fontsize=10)\n",
    "   \n",
    "\n",
    "    # Apply the threshold cut for signal and background\n",
    "    signal_pass = signal_probs > threshold\n",
    "    background_pass = background_probs > threshold\n",
    "\n",
    "    # Get the mass distributions for events that pass the cut\n",
    "    mass_signal_cut = mass_signal[signal_pass]\n",
    "    mass_background_cut = mass_background[background_pass]\n",
    "    \n",
    "    # Signal Efficiency (percentage of signal events passing the threshold)\n",
    "    signal_efficiency = len(mass_signal_cut) / len(mass_signal) if len(mass_signal) > 0 else 0\n",
    "\n",
    "    # Background Rejection (percentage of background events *not* passing the threshold)\n",
    "    background_rejection = 1 - len(mass_background_cut) / len(mass_background) if len(mass_background) > 0 else 0\n",
    "\n",
    "    # Sensitivity calculation (simplified: signal efficiency / sqrt(background events))\n",
    "    sensitivity = signal_efficiency / np.sqrt(len(mass_background_cut) + 1e-10) \n",
    "    # Create a subplot for Mass Distribution\n",
    "    plt.subplot(1, 2, 2)\n",
    "    plt.hist([mass_background_cut, mass_signal_cut], range=(4.5, 5.5), bins=50, stacked=True, label=[\"Background (after cut)\", \"Signal (after cut)\"], \n",
    "             color=[\"blue\", \"red\"], alpha=0.6)\n",
    "    plt.xlabel(\"Mass [GeV]\", fontsize=15)\n",
    "    plt.ylabel(\"Frequency\", fontsize=15)\n",
    "    plt.title(\"Mass Distribution After MLP Cut\", fontsize=22)\n",
    "    plt.legend(frameon=False, fontsize=10)\n",
    "\n",
    "\n",
    "    # Add sensitivity as text on the plot\n",
    "    plt.figtext(0.813, 0.76, f\"Sensitivity: {sensitivity:.3f}\\nSignal Efficiency: {signal_efficiency*100:.1f}%\\nBkg Rejection: {background_rejection*100:.1f}%\",\n",
    "                ha='left', va='center', fontsize=12, \n",
    "                bbox=dict(facecolor='white', alpha=0, edgecolor='none', boxstyle='square,pad=1'))\n",
    "    plt.tight_layout()\n",
    "\n",
    "    plt.show()\n",
    "\n",
    "# Create a slider for the threshold (range from 0 to 1, default at 0.5)\n",
    "threshold_slider = widgets.FloatSlider(value=0.5, min=0.0, max=1.0, step=0.01, description='Threshold:', continuous_update=False)\n",
    "\n",
    "# Use interactive to update the plot when the slider is moved\n",
    "interactive_plot = interactive(plot_interactive_cut, threshold=threshold_slider)\n",
    "\n",
    "# Display the interactive plot\n",
    "interactive_plot"
   ]
  },
  {
   "cell_type": "code",
   "execution_count": null,
   "id": "277003a4",
   "metadata": {},
   "outputs": [],
   "source": []
  }
 ],
 "metadata": {
  "kernelspec": {
   "display_name": "Python 3 (Belle2)",
   "language": "python",
   "name": "python3"
  },
  "language_info": {
   "codemirror_mode": {
    "name": "ipython",
    "version": 3
   },
   "file_extension": ".py",
   "mimetype": "text/x-python",
   "name": "python",
   "nbconvert_exporter": "python",
   "pygments_lexer": "ipython3",
   "version": "3.8.8"
  }
 },
 "nbformat": 4,
 "nbformat_minor": 5
}
